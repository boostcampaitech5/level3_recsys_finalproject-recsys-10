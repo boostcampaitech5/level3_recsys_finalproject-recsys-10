{
 "cells": [
  {
   "cell_type": "code",
   "execution_count": 1,
   "metadata": {},
   "outputs": [
    {
     "data": {
      "text/plain": [
       "<catboost.core.CatBoostClassifier at 0x7fe78b80ab90>"
      ]
     },
     "execution_count": 1,
     "metadata": {},
     "output_type": "execute_result"
    }
   ],
   "source": [
    "import catboost as cb\n",
    "import pandas as pd\n",
    "from sklearn.model_selection import train_test_split\n",
    "\n",
    "\n",
    "# 데이터셋 로드\n",
    "df_grouped = pd.read_csv('/opt/ml/recipe_project/model/train_data.csv')\n",
    "\n",
    "# # X와 y로 데이터 분할\n",
    "X = df_grouped.drop(\"recipeid\", axis=1)\n",
    "y = df_grouped[\"recipeid\"]\n",
    "\n",
    "\n",
    "# 훈련 세트와 테스트 세트로 데이터 분할\n",
    "X_train, X_test, y_train, y_test = train_test_split(X, y, test_size=0.2, random_state=42)\n",
    "\n",
    "# 모델 로드\n",
    "loaded_model = cb.CatBoostClassifier()\n",
    "loaded_model.load_model('catboost_model.bin')"
   ]
  },
  {
   "cell_type": "code",
   "execution_count": 2,
   "metadata": {},
   "outputs": [],
   "source": [
    "import catboost as cb\n",
    "import numpy as np\n",
    "import ast\n",
    "\n",
    "loaded_model = cb.CatBoostClassifier()\n",
    "loaded_model.load_model('catboost_model.bin')\n",
    "label_mapping = {idx: label for idx, label in enumerate(loaded_model.classes_)}"
   ]
  },
  {
   "cell_type": "code",
   "execution_count": 3,
   "metadata": {},
   "outputs": [
    {
     "data": {
      "text/plain": [
       "'[6874103, 6871728, 6879215, 6902125, 6899335, 6881099, 6906655, 6868389, 6894096, 6880798]'"
      ]
     },
     "execution_count": 3,
     "metadata": {},
     "output_type": "execute_result"
    }
   ],
   "source": [
    "def recommend_category(input_list, top_k = 10):\n",
    "    input_list = np.array(ast.literal_eval(input_list))\n",
    "    input_list = input_list / np.max(input_list)\n",
    "    input_list = np.round(input_list, decimals=2)\n",
    "    probabilities = loaded_model.predict_proba(input_list)\n",
    "    top_k_classes = probabilities.argsort()[-top_k:].tolist()\n",
    "    result = [label_mapping[label] for label in top_k_classes]\n",
    "    return str(result)\n",
    "\n",
    "# test\n",
    "input_li = \"[2, 2, 0, 2, 0, 1, 0, 3, 0, 0, 0, 0, 0, 0, 6, 1, 0, 0, 0, 2, 0, 0, 0, 0, 1, 0, 0, 0, 0, 1, 0, 0, 1, 2, 1, 0, 2, 0, 0, 0, 0, 1, 0, 2, 2, 0, 0, 0, 4, 1, 0, 0, 0, 1, 0, 2, 0, 0, 0, 0, 0]\"\n",
    "recommend_category(input_li, 10)"
   ]
  },
  {
   "cell_type": "markdown",
   "metadata": {},
   "source": [
    "# Accuracy test"
   ]
  },
  {
   "cell_type": "code",
   "execution_count": null,
   "metadata": {},
   "outputs": [
    {
     "name": "stdout",
     "output_type": "stream",
     "text": [
      "top_5\n",
      "output_unique: 2096, origin_unique: 2361\n",
      "correct: 4687, incorrect: 13869\n",
      "accuracy: 25.26%\n"
     ]
    }
   ],
   "source": [
    "TOP_K = 5\n",
    "# 테스트 세트에 대한 예측 확률 계산\n",
    "probabilities = loaded_model.predict_proba(X_test)\n",
    "# 상위 top_k개 클래스 레이블 반환\n",
    "top_k_classes = probabilities.argsort(axis=1)[:, -TOP_K:].tolist()\n",
    "result = {}\n",
    "for index, i in enumerate(top_k_classes):\n",
    "    result[index] = i\n",
    "\n",
    "# top_10_classes 리스트의 각 요소를 label_mapping을 사용하여 변경\n",
    "converted_top_k_classes = []\n",
    "for classes in top_k_classes:\n",
    "    converted_classes = [label_mapping[label] for label in classes]\n",
    "    converted_top_k_classes.append(converted_classes)\n",
    "\n",
    "y_test_li = y_test.to_list()\n",
    "\n",
    "cnt = 0\n",
    "for y_test_value, top_k_value_list in zip(y_test_li, converted_top_k_classes):\n",
    "    if y_test_value in top_k_value_list:\n",
    "        cnt += 1\n",
    "\n",
    "\n",
    "combined_list = []\n",
    "for sublist in converted_top_k_classes:\n",
    "    combined_list.extend(sublist)\n",
    "\n",
    "\n",
    "print(f'top_{TOP_K}')\n",
    "print(f'output_unique: {len(set(combined_list))}, origin_unique: {len(loaded_model.classes_)}')\n",
    "print(f'correct: {cnt}, incorrect: {len(y_test) - cnt}')\n",
    "print(f'accuracy: {round(cnt / len(y_test) * 100, 2)}%')"
   ]
  },
  {
   "cell_type": "markdown",
   "metadata": {},
   "source": [
    "```\n",
    "top_1\n",
    "output_unique: 1336, origin_unique: 2361\n",
    "correct: 1919, incorrect: 16637\n",
    "accuracy: 10.34%\n",
    "```"
   ]
  },
  {
   "cell_type": "markdown",
   "metadata": {},
   "source": [
    "```\n",
    "top_2\n",
    "output_unique: 1693, origin_unique: 2361\n",
    "correct: 2922, incorrect: 15634\n",
    "accuracy: 15.75%\n",
    "```"
   ]
  },
  {
   "cell_type": "markdown",
   "metadata": {},
   "source": [
    "```\n",
    "top_3\n",
    "output_unique: 1885, origin_unique: 2361\n",
    "correct: 3662, incorrect: 14894\n",
    "accuracy: 19.73%\n",
    "```"
   ]
  },
  {
   "cell_type": "markdown",
   "metadata": {},
   "source": [
    "```\n",
    "top_4\n",
    "output_unique: 2000, origin_unique: 2361\n",
    "correct: 4207, incorrect: 14349\n",
    "accuracy: 22.67%\n",
    "```"
   ]
  },
  {
   "attachments": {},
   "cell_type": "markdown",
   "metadata": {},
   "source": [
    "```\n",
    "top_5\n",
    "output_unique: 2096, origin_unique: 2361\n",
    "correct: 4687, incorrect: 13869\n",
    "accuracy: 25.26%\n",
    "```"
   ]
  },
  {
   "attachments": {},
   "cell_type": "markdown",
   "metadata": {},
   "source": [
    "```\n",
    "top_10\n",
    "output_unique: 2280, origin_unique: 2361\n",
    "correct: 6318, incorrect: 12238\n",
    "accuracy: 34.05%\n",
    "```"
   ]
  },
  {
   "attachments": {},
   "cell_type": "markdown",
   "metadata": {},
   "source": [
    "```\n",
    "top_15\n",
    "output_unique: 2326, origin_unique: 2361\n",
    "correct: 7389, incorrect: 11167\n",
    "accuracy: 39.82%\n",
    "```"
   ]
  },
  {
   "attachments": {},
   "cell_type": "markdown",
   "metadata": {},
   "source": [
    "```\n",
    "top_20\n",
    "output_unique: 2346, origin_unique: 2361\n",
    "correct: 8229, incorrect: 10327\n",
    "accuracy: 44.35%\n",
    "```"
   ]
  },
  {
   "attachments": {},
   "cell_type": "markdown",
   "metadata": {},
   "source": [
    "```\n",
    "top_25\n",
    "output_unique: 2351, origin_unique: 2361\n",
    "correct: 8896, incorrect: 9660\n",
    "accuracy: 47.94%\n",
    "```"
   ]
  },
  {
   "attachments": {},
   "cell_type": "markdown",
   "metadata": {},
   "source": [
    "```\n",
    "top_30\n",
    "output_unique: 2356, origin_unique: 2361\n",
    "correct: 9441, incorrect: 9115\n",
    "accuracy: 50.88%\n",
    "```"
   ]
  },
  {
   "cell_type": "markdown",
   "metadata": {},
   "source": [
    "```\n",
    "top_35\n",
    "output_unique: 2358, origin_unique: 2361\n",
    "correct: 9862, incorrect: 8694\n",
    "accuracy: 53.15%\n",
    "```"
   ]
  },
  {
   "cell_type": "markdown",
   "metadata": {},
   "source": [
    "```\n",
    "top_40\n",
    "output_unique: 2360, origin_unique: 2361\n",
    "correct: 10245, incorrect: 8311\n",
    "accuracy: 55.21%\n",
    "```"
   ]
  },
  {
   "cell_type": "markdown",
   "metadata": {},
   "source": [
    "```\n",
    "top_45\n",
    "output_unique: 2360, origin_unique: 2361\n",
    "correct: 10588, incorrect: 7968\n",
    "accuracy: 57.06%\n",
    "```"
   ]
  },
  {
   "cell_type": "markdown",
   "metadata": {},
   "source": [
    "```\n",
    "top_50\n",
    "output_unique: 2361, origin_unique: 2361\n",
    "correct: 10919, incorrect: 7637\n",
    "accuracy: 58.84%\n",
    "```"
   ]
  },
  {
   "cell_type": "markdown",
   "metadata": {},
   "source": [
    "```\n",
    "top_100\n",
    "output_unique: 2361, origin_unique: 2361\n",
    "correct: 12988, incorrect: 5568\n",
    "accuracy: 69.99%\n",
    "```"
   ]
  },
  {
   "cell_type": "markdown",
   "metadata": {},
   "source": [
    "```\n",
    "top_200\n",
    "output_unique: 2361, origin_unique: 2361\n",
    "correct: 14805, incorrect: 3751\n",
    "accuracy: 79.79% \n",
    "```"
   ]
  }
 ],
 "metadata": {
  "kernelspec": {
   "display_name": "Final_Project_3.11.3",
   "language": "python",
   "name": "python3"
  },
  "language_info": {
   "codemirror_mode": {
    "name": "ipython",
    "version": 3
   },
   "file_extension": ".py",
   "mimetype": "text/x-python",
   "name": "python",
   "nbconvert_exporter": "python",
   "pygments_lexer": "ipython3",
   "version": "3.11.3"
  },
  "orig_nbformat": 4
 },
 "nbformat": 4,
 "nbformat_minor": 2
}
